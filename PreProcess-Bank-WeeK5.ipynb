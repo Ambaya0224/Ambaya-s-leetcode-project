{
  "nbformat": 4,
  "nbformat_minor": 0,
  "metadata": {
    "colab": {
      "provenance": [],
      "authorship_tag": "ABX9TyPGAqghtb2cFFzKVQS9ecxl",
      "include_colab_link": true
    },
    "kernelspec": {
      "name": "python3",
      "display_name": "Python 3"
    },
    "language_info": {
      "name": "python"
    }
  },
  "cells": [
    {
      "cell_type": "markdown",
      "metadata": {
        "id": "view-in-github",
        "colab_type": "text"
      },
      "source": [
        "<a href=\"https://colab.research.google.com/github/Ambaya0224/Ambaya-s-leetcode-project/blob/master/PreProcess-Bank-WeeK5.ipynb\" target=\"_parent\"><img src=\"https://colab.research.google.com/assets/colab-badge.svg\" alt=\"Open In Colab\"/></a>"
      ]
    },
    {
      "cell_type": "code",
      "source": [
        "from pyspark.sql import SparkSession\n",
        "from pyspark.sql.types import IntegerType, FloatType, DoubleType, LongType\n",
        "from pyspark.sql.functions import col, mean, stddev, when, udf\n",
        "\n",
        "\n",
        "# Create a Spark session\n",
        "spark = SparkSession.builder \\\n",
        "    .appName(\"Show Bank Dataset\") \\\n",
        "    .getOrCreate()\n",
        "\n",
        "# Load the dataset (make sure to specify the correct path to your bank.csv file)\n",
        "df = spark.read.csv('bank.csv', header=True, sep=';', inferSchema=True)\n",
        "#df1 = spark.read.csv('bank.csv', header=True, inferSchema=True)\n",
        "\n",
        "#print(df)\n",
        "\n",
        "# Show the first few rows of the dataset\n",
        "df.show()\n",
        "\n",
        "# Optionally, show the schema of the dataset\n",
        "#df.printSchema()\n",
        "\n",
        "# Stop the Spark session\n",
        "#spark.stop()"
      ],
      "metadata": {
        "colab": {
          "base_uri": "https://localhost:8080/"
        },
        "id": "vNRPkxRJ8rdz",
        "outputId": "1fabb0ff-7f6a-48f2-c151-d12d5d79710c"
      },
      "execution_count": 7,
      "outputs": [
        {
          "output_type": "stream",
          "name": "stdout",
          "text": [
            "+---+-------------+-------+---------+-------+-------+-------+----+--------+---+-----+--------+--------+-----+--------+--------+---+\n",
            "|age|          job|marital|education|default|balance|housing|loan| contact|day|month|duration|campaign|pdays|previous|poutcome|  y|\n",
            "+---+-------------+-------+---------+-------+-------+-------+----+--------+---+-----+--------+--------+-----+--------+--------+---+\n",
            "| 30|   unemployed|married|  primary|     no|   1787|     no|  no|cellular| 19|  oct|      79|       1|   -1|       0| unknown| no|\n",
            "| 33|     services|married|secondary|     no|   4789|    yes| yes|cellular| 11|  may|     220|       1|  339|       4| failure| no|\n",
            "| 35|   management| single| tertiary|     no|   1350|    yes|  no|cellular| 16|  apr|     185|       1|  330|       1| failure| no|\n",
            "| 30|   management|married| tertiary|     no|   1476|    yes| yes| unknown|  3|  jun|     199|       4|   -1|       0| unknown| no|\n",
            "| 59|  blue-collar|married|secondary|     no|      0|    yes|  no| unknown|  5|  may|     226|       1|   -1|       0| unknown| no|\n",
            "| 35|   management| single| tertiary|     no|    747|     no|  no|cellular| 23|  feb|     141|       2|  176|       3| failure| no|\n",
            "| 36|self-employed|married| tertiary|     no|    307|    yes|  no|cellular| 14|  may|     341|       1|  330|       2|   other| no|\n",
            "| 39|   technician|married|secondary|     no|    147|    yes|  no|cellular|  6|  may|     151|       2|   -1|       0| unknown| no|\n",
            "| 41| entrepreneur|married| tertiary|     no|    221|    yes|  no| unknown| 14|  may|      57|       2|   -1|       0| unknown| no|\n",
            "| 43|     services|married|  primary|     no|    -88|    yes| yes|cellular| 17|  apr|     313|       1|  147|       2| failure| no|\n",
            "| 39|     services|married|secondary|     no|   9374|    yes|  no| unknown| 20|  may|     273|       1|   -1|       0| unknown| no|\n",
            "| 43|       admin.|married|secondary|     no|    264|    yes|  no|cellular| 17|  apr|     113|       2|   -1|       0| unknown| no|\n",
            "| 36|   technician|married| tertiary|     no|   1109|     no|  no|cellular| 13|  aug|     328|       2|   -1|       0| unknown| no|\n",
            "| 20|      student| single|secondary|     no|    502|     no|  no|cellular| 30|  apr|     261|       1|   -1|       0| unknown|yes|\n",
            "| 31|  blue-collar|married|secondary|     no|    360|    yes| yes|cellular| 29|  jan|      89|       1|  241|       1| failure| no|\n",
            "| 40|   management|married| tertiary|     no|    194|     no| yes|cellular| 29|  aug|     189|       2|   -1|       0| unknown| no|\n",
            "| 56|   technician|married|secondary|     no|   4073|     no|  no|cellular| 27|  aug|     239|       5|   -1|       0| unknown| no|\n",
            "| 37|       admin.| single| tertiary|     no|   2317|    yes|  no|cellular| 20|  apr|     114|       1|  152|       2| failure| no|\n",
            "| 25|  blue-collar| single|  primary|     no|   -221|    yes|  no| unknown| 23|  may|     250|       1|   -1|       0| unknown| no|\n",
            "| 31|     services|married|secondary|     no|    132|     no|  no|cellular|  7|  jul|     148|       1|  152|       1|   other| no|\n",
            "+---+-------------+-------+---------+-------+-------+-------+----+--------+---+-----+--------+--------+-----+--------+--------+---+\n",
            "only showing top 20 rows\n",
            "\n"
          ]
        }
      ]
    },
    {
      "cell_type": "code",
      "source": [
        "# Get the list of numeric columns\n",
        "numeric_columns = [field.name for field in df.schema.fields if isinstance(field.dataType, (IntegerType,\n",
        "    FloatType, DoubleType, LongType))]\n",
        "# Create a DataFrame with just the numeric features\n",
        "numeric_df = df.select(numeric_columns)\n",
        "\n",
        "# Show the numeric DataFrame\n",
        "numeric_df.show()\n",
        "numeric_df.printSchema()\n",
        "numeric_df.describe().show()"
      ],
      "metadata": {
        "colab": {
          "base_uri": "https://localhost:8080/"
        },
        "id": "U8DZp09-AhcG",
        "outputId": "a01ff1da-390c-420e-8cb5-2925930e8348"
      },
      "execution_count": 8,
      "outputs": [
        {
          "output_type": "stream",
          "name": "stdout",
          "text": [
            "+---+-------+---+--------+--------+-----+--------+\n",
            "|age|balance|day|duration|campaign|pdays|previous|\n",
            "+---+-------+---+--------+--------+-----+--------+\n",
            "| 30|   1787| 19|      79|       1|   -1|       0|\n",
            "| 33|   4789| 11|     220|       1|  339|       4|\n",
            "| 35|   1350| 16|     185|       1|  330|       1|\n",
            "| 30|   1476|  3|     199|       4|   -1|       0|\n",
            "| 59|      0|  5|     226|       1|   -1|       0|\n",
            "| 35|    747| 23|     141|       2|  176|       3|\n",
            "| 36|    307| 14|     341|       1|  330|       2|\n",
            "| 39|    147|  6|     151|       2|   -1|       0|\n",
            "| 41|    221| 14|      57|       2|   -1|       0|\n",
            "| 43|    -88| 17|     313|       1|  147|       2|\n",
            "| 39|   9374| 20|     273|       1|   -1|       0|\n",
            "| 43|    264| 17|     113|       2|   -1|       0|\n",
            "| 36|   1109| 13|     328|       2|   -1|       0|\n",
            "| 20|    502| 30|     261|       1|   -1|       0|\n",
            "| 31|    360| 29|      89|       1|  241|       1|\n",
            "| 40|    194| 29|     189|       2|   -1|       0|\n",
            "| 56|   4073| 27|     239|       5|   -1|       0|\n",
            "| 37|   2317| 20|     114|       1|  152|       2|\n",
            "| 25|   -221| 23|     250|       1|   -1|       0|\n",
            "| 31|    132|  7|     148|       1|  152|       1|\n",
            "+---+-------+---+--------+--------+-----+--------+\n",
            "only showing top 20 rows\n",
            "\n",
            "root\n",
            " |-- age: integer (nullable = true)\n",
            " |-- balance: integer (nullable = true)\n",
            " |-- day: integer (nullable = true)\n",
            " |-- duration: integer (nullable = true)\n",
            " |-- campaign: integer (nullable = true)\n",
            " |-- pdays: integer (nullable = true)\n",
            " |-- previous: integer (nullable = true)\n",
            "\n",
            "+-------+------------------+------------------+------------------+------------------+------------------+------------------+------------------+\n",
            "|summary|               age|           balance|               day|          duration|          campaign|             pdays|          previous|\n",
            "+-------+------------------+------------------+------------------+------------------+------------------+------------------+------------------+\n",
            "|  count|              4521|              4521|              4521|              4521|              4521|              4521|              4521|\n",
            "|   mean| 41.17009511170095|1422.6578190665782|15.915284229152842|263.96129174961294| 2.793629727936297|39.766644547666445|0.5425790754257908|\n",
            "| stddev|10.576210958711263|3009.6381424673395| 8.247667327229934|259.85663262468216|3.1098066601885823|100.12112444301656|1.6935623506071211|\n",
            "|    min|                19|             -3313|                 1|                 4|                 1|                -1|                 0|\n",
            "|    max|                87|             71188|                31|              3025|                50|               871|                25|\n",
            "+-------+------------------+------------------+------------------+------------------+------------------+------------------+------------------+\n",
            "\n"
          ]
        }
      ]
    },
    {
      "cell_type": "markdown",
      "source": [
        "**1. Mean**"
      ],
      "metadata": {
        "id": "LCLYVYuCsU9-"
      }
    },
    {
      "cell_type": "code",
      "source": [
        "# Get the list of numeric columns\n",
        "numeric_columns = [field.name for field in df.schema.fields if isinstance(field.dataType, (IntegerType,\n",
        "    FloatType, DoubleType, LongType))]\n",
        "\n",
        "# Calculate the mean for each numeric column\n",
        "mean_values = [df.select(mean(col)).first()[0] for col in numeric_columns]\n",
        "\n",
        "# Print the means for each features\n",
        "print(f\"Mean: {[f'{x:.2f}' for x in mean_values]}\")\n",
        "\n",
        "'''\n",
        "# Create a DataFrame\n",
        "df = spark.createDataFrame([(float(num),) for num in mean_values], [\"value\"])\n",
        "\n",
        "# Calculate the mean\n",
        "mean_value = df.agg(mean(\"value\")).collect()[0][0]\n",
        "\n",
        "# Print the result\n",
        "print(f\"Mean:, {mean_value:.2f}\")\n",
        "'''\n",
        "\n",
        "#mean_values = [df[col].mean() for col in numeric_df]\n",
        "#print(f\"Mean: {[f'{x:.2f}' for x in mean_values]}\")\n",
        "\n",
        "\n",
        "\n",
        "print(numeric_df)\n",
        "print(\"Mean: \")\n",
        "\n",
        "# mean_age = numeric_df.agg({\"age\": \"mean\"}).collect()[0][0]\n",
        "# mean_balance = numeric_df.agg({\"balance\": \"mean\"}).collect()[0][0]\n",
        "mean_age = numeric_df.select(mean('age')).first()[0]\n",
        "mean_balance = numeric_df.select(mean('balance')).first()[0]\n",
        "mean_day = numeric_df.select(mean('day')).first()[0]\n",
        "mean_duration = numeric_df.select(mean('duration')).first()[0]\n",
        "mean_campaign = numeric_df.select(mean('campaign')).first()[0]\n",
        "mean_pdays = numeric_df.select(mean('pdays')).first()[0]\n",
        "mean_previous = numeric_df.select(mean('previous')).first()[0]\n",
        "\n",
        "print(f\"age: {mean_age:.2f}\")\n",
        "print(f'balance: {mean_balance:.2f}')\n",
        "print(f\"day: {mean_day:.2f}\")\n",
        "print(f\"duration: {mean_duration:.2f}\")\n",
        "print(f\"campaign: {mean_campaign:.2f}\")\n",
        "print(f\"pdays: {mean_pdays:.2f}\")\n",
        "print(f\"previous: {mean_previous:.2f}\")\n",
        "\n",
        "\n",
        "print(f'Dataset Mean: {(mean_age + mean_balance + mean_day + mean_duration + mean_campaign + mean_pdays + mean_previous)/7:.2f}')\n"
      ],
      "metadata": {
        "colab": {
          "base_uri": "https://localhost:8080/"
        },
        "id": "DkaI7UjjPXgn",
        "outputId": "30c001ff-b169-437a-ba03-441c1ec68a4c"
      },
      "execution_count": 9,
      "outputs": [
        {
          "output_type": "stream",
          "name": "stdout",
          "text": [
            "Mean: ['41.17', '1422.66', '15.92', '263.96', '2.79', '39.77', '0.54']\n",
            "DataFrame[age: int, balance: int, day: int, duration: int, campaign: int, pdays: int, previous: int]\n",
            "Mean: \n",
            "age: 41.17\n",
            "balance: 1422.66\n",
            "day: 15.92\n",
            "duration: 263.96\n",
            "campaign: 2.79\n",
            "pdays: 39.77\n",
            "previous: 0.54\n",
            "Dataset Mean: 255.26\n"
          ]
        }
      ]
    },
    {
      "cell_type": "markdown",
      "source": [
        "2. **Median**"
      ],
      "metadata": {
        "id": "Wg7aagw0sgSE"
      }
    },
    {
      "cell_type": "code",
      "source": [
        "print(numeric_df)\n",
        "numeric_df.show()\n",
        "\n",
        "\n",
        "medians = {}\n",
        "for features in numeric_df.columns:\n",
        "  median_value = numeric_df.approxQuantile(features, [0.5], 0.01)[0]\n",
        "  medians[features] = median_value\n",
        "\n",
        "print(medians)\n"
      ],
      "metadata": {
        "colab": {
          "base_uri": "https://localhost:8080/"
        },
        "collapsed": true,
        "id": "Tyi4a0R9saHE",
        "outputId": "cfc7971e-1901-4c25-d8f8-4b32298af01c"
      },
      "execution_count": 10,
      "outputs": [
        {
          "output_type": "stream",
          "name": "stdout",
          "text": [
            "DataFrame[age: int, balance: int, day: int, duration: int, campaign: int, pdays: int, previous: int]\n",
            "+---+-------+---+--------+--------+-----+--------+\n",
            "|age|balance|day|duration|campaign|pdays|previous|\n",
            "+---+-------+---+--------+--------+-----+--------+\n",
            "| 30|   1787| 19|      79|       1|   -1|       0|\n",
            "| 33|   4789| 11|     220|       1|  339|       4|\n",
            "| 35|   1350| 16|     185|       1|  330|       1|\n",
            "| 30|   1476|  3|     199|       4|   -1|       0|\n",
            "| 59|      0|  5|     226|       1|   -1|       0|\n",
            "| 35|    747| 23|     141|       2|  176|       3|\n",
            "| 36|    307| 14|     341|       1|  330|       2|\n",
            "| 39|    147|  6|     151|       2|   -1|       0|\n",
            "| 41|    221| 14|      57|       2|   -1|       0|\n",
            "| 43|    -88| 17|     313|       1|  147|       2|\n",
            "| 39|   9374| 20|     273|       1|   -1|       0|\n",
            "| 43|    264| 17|     113|       2|   -1|       0|\n",
            "| 36|   1109| 13|     328|       2|   -1|       0|\n",
            "| 20|    502| 30|     261|       1|   -1|       0|\n",
            "| 31|    360| 29|      89|       1|  241|       1|\n",
            "| 40|    194| 29|     189|       2|   -1|       0|\n",
            "| 56|   4073| 27|     239|       5|   -1|       0|\n",
            "| 37|   2317| 20|     114|       1|  152|       2|\n",
            "| 25|   -221| 23|     250|       1|   -1|       0|\n",
            "| 31|    132|  7|     148|       1|  152|       1|\n",
            "+---+-------+---+--------+--------+-----+--------+\n",
            "only showing top 20 rows\n",
            "\n",
            "{'age': 39.0, 'balance': 438.0, 'day': 16.0, 'duration': 184.0, 'campaign': 2.0, 'pdays': -1.0, 'previous': 0.0}\n"
          ]
        }
      ]
    },
    {
      "cell_type": "markdown",
      "source": [
        "**3. Standart deviation**"
      ],
      "metadata": {
        "id": "VBpFdAvlZz88"
      }
    },
    {
      "cell_type": "code",
      "source": [
        "from pyspark.sql import SparkSession\n",
        "from pyspark.sql import functions as F\n",
        "\n",
        "print(numeric_df)\n",
        "numeric_df.show()\n",
        "\n",
        "stddevs = {}\n",
        "for features in numeric_df.columns:\n",
        "  stddev_value = numeric_df.agg(F.stddev(features)).collect()[0][0]\n",
        "  stddevs[features] = stddev_value\n",
        "\n",
        "print('Standart deviations:')\n",
        "for features, value in stddevs.items():\n",
        "  print(f'{features}: {value:.2f}')\n",
        "\n",
        "\n",
        "\n"
      ],
      "metadata": {
        "colab": {
          "base_uri": "https://localhost:8080/"
        },
        "collapsed": true,
        "id": "9Fo-KJSAZzhx",
        "outputId": "251a83b5-cf1c-47b8-e664-389eef81dc29"
      },
      "execution_count": 11,
      "outputs": [
        {
          "output_type": "stream",
          "name": "stdout",
          "text": [
            "DataFrame[age: int, balance: int, day: int, duration: int, campaign: int, pdays: int, previous: int]\n",
            "+---+-------+---+--------+--------+-----+--------+\n",
            "|age|balance|day|duration|campaign|pdays|previous|\n",
            "+---+-------+---+--------+--------+-----+--------+\n",
            "| 30|   1787| 19|      79|       1|   -1|       0|\n",
            "| 33|   4789| 11|     220|       1|  339|       4|\n",
            "| 35|   1350| 16|     185|       1|  330|       1|\n",
            "| 30|   1476|  3|     199|       4|   -1|       0|\n",
            "| 59|      0|  5|     226|       1|   -1|       0|\n",
            "| 35|    747| 23|     141|       2|  176|       3|\n",
            "| 36|    307| 14|     341|       1|  330|       2|\n",
            "| 39|    147|  6|     151|       2|   -1|       0|\n",
            "| 41|    221| 14|      57|       2|   -1|       0|\n",
            "| 43|    -88| 17|     313|       1|  147|       2|\n",
            "| 39|   9374| 20|     273|       1|   -1|       0|\n",
            "| 43|    264| 17|     113|       2|   -1|       0|\n",
            "| 36|   1109| 13|     328|       2|   -1|       0|\n",
            "| 20|    502| 30|     261|       1|   -1|       0|\n",
            "| 31|    360| 29|      89|       1|  241|       1|\n",
            "| 40|    194| 29|     189|       2|   -1|       0|\n",
            "| 56|   4073| 27|     239|       5|   -1|       0|\n",
            "| 37|   2317| 20|     114|       1|  152|       2|\n",
            "| 25|   -221| 23|     250|       1|   -1|       0|\n",
            "| 31|    132|  7|     148|       1|  152|       1|\n",
            "+---+-------+---+--------+--------+-----+--------+\n",
            "only showing top 20 rows\n",
            "\n",
            "Standart deviations:\n",
            "age: 10.58\n",
            "balance: 3009.64\n",
            "day: 8.25\n",
            "duration: 259.86\n",
            "campaign: 3.11\n",
            "pdays: 100.12\n",
            "previous: 1.69\n"
          ]
        }
      ]
    },
    {
      "cell_type": "markdown",
      "source": [
        "Create a bar graph of the variable/attribute: previous"
      ],
      "metadata": {
        "id": "LSEdNSJYeo0V"
      }
    },
    {
      "cell_type": "code",
      "source": [
        "import matplotlib.pyplot as plt\n",
        "from pyspark.sql.functions import max, min\n",
        "\n",
        "print(numeric_df['previous'])\n",
        "numeric_df.show()\n",
        "\n",
        "\n",
        "\n",
        "\n",
        "# Group by 'previous' and count occurrences\n",
        "previous_counts = numeric_df.groupBy('previous').count()\n",
        "# Convert to Pandas DataFrame  for plotting\n",
        "previous_counts_pd = previous_counts.toPandas()\n",
        "\n",
        "# Group by 'age' and count occurrences\n",
        "age_counts = numeric_df.groupBy('age').count()\n",
        "# Convert to Pandas DataFrame  for plotting\n",
        "age_counts_pd = age_counts.toPandas()\n",
        "\n",
        "\n",
        "# Find the maximum and minimum counts\n",
        "max_count = previous_counts.agg(max(\"count\")).collect()[0][0]\n",
        "min_count = previous_counts.agg(min(\"count\")).collect()[0][0]\n",
        "\n",
        "# Display max and min counts\n",
        "print(f\"Maximum count: {max_count}\")\n",
        "print(f\"Minimum count: {min_count}\")\n",
        "\n",
        "\n",
        "# Plotting the bar graph\n",
        "plt.figure(figsize=(10, 6))\n",
        "plt.bar(previous_counts_pd['previous'], previous_counts_pd['count'], color='skyblue')\n",
        "plt.xlabel('Previous Contacts')\n",
        "plt.ylabel('Count')\n",
        "plt.title('Distribution of Previous Contacts')\n",
        "plt.xticks(previous_counts_pd['previous'])    # Ensure all previous values are shown on x-axis\n",
        "plt.grid(axis='y')\n",
        "plt.show()\n",
        "\n",
        "\n",
        "previous_counts.show(20)\n",
        "age_counts.show(20)\n"
      ],
      "metadata": {
        "colab": {
          "base_uri": "https://localhost:8080/",
          "height": 1000
        },
        "id": "VBXXCJpdesFZ",
        "outputId": "c25514e2-e04d-40b4-a17c-5c85d152dd1d"
      },
      "execution_count": 12,
      "outputs": [
        {
          "output_type": "stream",
          "name": "stdout",
          "text": [
            "Column<'previous'>\n",
            "+---+-------+---+--------+--------+-----+--------+\n",
            "|age|balance|day|duration|campaign|pdays|previous|\n",
            "+---+-------+---+--------+--------+-----+--------+\n",
            "| 30|   1787| 19|      79|       1|   -1|       0|\n",
            "| 33|   4789| 11|     220|       1|  339|       4|\n",
            "| 35|   1350| 16|     185|       1|  330|       1|\n",
            "| 30|   1476|  3|     199|       4|   -1|       0|\n",
            "| 59|      0|  5|     226|       1|   -1|       0|\n",
            "| 35|    747| 23|     141|       2|  176|       3|\n",
            "| 36|    307| 14|     341|       1|  330|       2|\n",
            "| 39|    147|  6|     151|       2|   -1|       0|\n",
            "| 41|    221| 14|      57|       2|   -1|       0|\n",
            "| 43|    -88| 17|     313|       1|  147|       2|\n",
            "| 39|   9374| 20|     273|       1|   -1|       0|\n",
            "| 43|    264| 17|     113|       2|   -1|       0|\n",
            "| 36|   1109| 13|     328|       2|   -1|       0|\n",
            "| 20|    502| 30|     261|       1|   -1|       0|\n",
            "| 31|    360| 29|      89|       1|  241|       1|\n",
            "| 40|    194| 29|     189|       2|   -1|       0|\n",
            "| 56|   4073| 27|     239|       5|   -1|       0|\n",
            "| 37|   2317| 20|     114|       1|  152|       2|\n",
            "| 25|   -221| 23|     250|       1|   -1|       0|\n",
            "| 31|    132|  7|     148|       1|  152|       1|\n",
            "+---+-------+---+--------+--------+-----+--------+\n",
            "only showing top 20 rows\n",
            "\n",
            "Maximum count: 3705\n",
            "Minimum count: 1\n"
          ]
        },
        {
          "output_type": "display_data",
          "data": {
            "text/plain": [
              "<Figure size 1000x600 with 1 Axes>"
            ],
            "image/png": "[encoded data removed]"
          },
          "metadata": {}
        },
        {
          "output_type": "stream",
          "name": "stdout",
          "text": [
            "+--------+-----+\n",
            "|previous|count|\n",
            "+--------+-----+\n",
            "|      12|    5|\n",
            "|      22|    1|\n",
            "|       1|  286|\n",
            "|      13|    1|\n",
            "|       6|   25|\n",
            "|       3|  113|\n",
            "|      20|    1|\n",
            "|       5|   47|\n",
            "|      19|    1|\n",
            "|      15|    1|\n",
            "|       9|   10|\n",
            "|      17|    1|\n",
            "|       4|   78|\n",
            "|       8|   18|\n",
            "|      23|    1|\n",
            "|       7|   22|\n",
            "|      10|    4|\n",
            "|      25|    1|\n",
            "|      24|    1|\n",
            "|      11|    3|\n",
            "+--------+-----+\n",
            "only showing top 20 rows\n",
            "\n",
            "+---+-----+\n",
            "|age|count|\n",
            "+---+-----+\n",
            "| 31|  199|\n",
            "| 65|    6|\n",
            "| 53|   94|\n",
            "| 78|    3|\n",
            "| 34|  231|\n",
            "| 81|    1|\n",
            "| 28|  103|\n",
            "| 76|    2|\n",
            "| 26|   77|\n",
            "| 27|   94|\n",
            "| 44|  105|\n",
            "| 22|    9|\n",
            "| 47|  108|\n",
            "| 52|   86|\n",
            "| 86|    1|\n",
            "| 20|    3|\n",
            "| 40|  142|\n",
            "| 57|   91|\n",
            "| 54|   71|\n",
            "| 48|  114|\n",
            "+---+-----+\n",
            "only showing top 20 rows\n",
            "\n"
          ]
        }
      ]
    },
    {
      "cell_type": "markdown",
      "source": [
        "**Create a normalized bar graph of the variable/attribute: previous;**"
      ],
      "metadata": {
        "id": "ATzSXc7amu8g"
      }
    },
    {
      "cell_type": "code",
      "source": [
        "import matplotlib.pyplot as plt\n",
        "from pyspark.sql.functions import collect_list\n",
        "# Get the total count\n",
        "total_count = numeric_df.count()\n",
        "\n",
        "# Group by 'previous', count, and calculate normalized frequency\n",
        "previous_counts = numeric_df.groupBy('previous').count()\n",
        "previous_counts = previous_counts.withColumn('normalized_count', col('count')/total_count)\n",
        "\n",
        "# Convert to Pandas for plotting\n",
        "previous_counts_pd = previous_counts.toPandas()\n",
        "\n",
        "# Plot the normalized bar graph\n",
        "plt.figure(figsize=(10, 6))\n",
        "plt.bar(previous_counts_pd['previous'], previous_counts_pd['normalized_count'], color='skyblue')\n",
        "plt.xlabel('Previous Contacts')\n",
        "plt.ylabel('Normalized Frequency')\n",
        "plt.title('Normalized Distribution of Previous Contacts')\n",
        "plt.xticks(previous_counts_pd['previous'])\n",
        "plt.grid(axis='y')\n",
        "plt.show()\n"
      ],
      "metadata": {
        "colab": {
          "base_uri": "https://localhost:8080/",
          "height": 564
        },
        "id": "IDtGEEKAmuoS",
        "outputId": "fa993b1b-8ce4-4722-cb04-3d926244fcdf"
      },
      "execution_count": 14,
      "outputs": [
        {
          "output_type": "display_data",
          "data": {
            "text/plain": [
              "<Figure size 1000x600 with 1 Axes>"
            ],
            "image/png": "[encoded data removed]"
          },
          "metadata": {}
        }
      ]
    }
  ]
}